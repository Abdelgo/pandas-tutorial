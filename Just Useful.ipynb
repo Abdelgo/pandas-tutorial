{
 "cells": [
  {
   "cell_type": "markdown",
   "metadata": {},
   "source": [
    "http://pandas.pydata.org/pandas-docs/stable/user_guide/indexing.html#selecting-random-samples\n",
    "http://pandas.pydata.org/pandas-docs/stable/user_guide/indexing.html#indexing-with-isin\n",
    "http://pandas.pydata.org/pandas-docs/stable/user_guide/indexing.html#duplicate-data\n",
    "http://pandas.pydata.org/pandas-docs/stable/user_guide/reshaping.html#cross-tabulations\n",
    "http://pandas.pydata.org/pandas-docs/stable/user_guide/reshaping.html#tiling\n",
    "http://pandas.pydata.org/pandas-docs/stable/user_guide/text.html\n",
    "http://pandas.pydata.org/pandas-docs/stable/user_guide/missing_data.html#filling-missing-values-fillna\n",
    "http://pandas.pydata.org/pandas-docs/stable/user_guide/missing_data.html#dropping-axis-labels-with-missing-data-dropna"
   ]
  }
 ],
 "metadata": {
  "kernelspec": {
   "display_name": "Python 3",
   "language": "python",
   "name": "python3"
  },
  "language_info": {
   "codemirror_mode": {
    "name": "ipython",
    "version": 3
   },
   "file_extension": ".py",
   "mimetype": "text/x-python",
   "name": "python",
   "nbconvert_exporter": "python",
   "pygments_lexer": "ipython3",
   "version": "3.7.3"
  }
 },
 "nbformat": 4,
 "nbformat_minor": 2
}
